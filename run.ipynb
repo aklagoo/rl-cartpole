{
 "cells": [
  {
   "cell_type": "code",
   "execution_count": 1,
   "id": "95e8600e-6c52-47b3-b963-e564100183aa",
   "metadata": {},
   "outputs": [],
   "source": [
    "import CartPoleEnvironment\n",
    "from matplotlib import pyplot as plt"
   ]
  },
  {
   "cell_type": "code",
   "execution_count": 2,
   "id": "6ffa1960-6e8a-4bd7-a05b-7bf47a94f9d2",
   "metadata": {},
   "outputs": [],
   "source": [
    "env = CartPoleEnvironment.CartPoleEnvironment()"
   ]
  },
  {
   "cell_type": "code",
   "execution_count": 3,
   "id": "248c48d9-cd58-4967-b375-66dab7d19089",
   "metadata": {},
   "outputs": [],
   "source": [
    "x = env.reset()"
   ]
  },
  {
   "cell_type": "code",
   "execution_count": 4,
   "id": "5f04ccc7-fc38-4dc7-844e-bd571bd73e5c",
   "metadata": {
    "tags": []
   },
   "outputs": [
    {
     "data": {
      "image/png": "[encoded data removed]",
      "text/plain": [
       "<Figure size 640x480 with 1 Axes>"
      ]
     },
     "metadata": {},
     "output_type": "display_data"
    }
   ],
   "source": [
    "plt.imshow(x.permute(1,2,0))\n",
    "plt.show()"
   ]
  },
  {
   "cell_type": "code",
   "execution_count": 31,
   "id": "7de3f49e-c82d-4f26-bc73-5906cbd4cfdf",
   "metadata": {},
   "outputs": [
    {
     "name": "stderr",
     "output_type": "stream",
     "text": [
      "C:\\Users\\aklag\\anaconda3\\envs\\torch-rl\\lib\\site-packages\\gym\\logger.py:30: UserWarning: \u001b[33mWARN: You are calling 'step()' even though this environment has already returned done = True. You should always call 'reset()' once you receive 'done = True' -- any further steps are undefined behavior.\u001b[0m\n",
      "  warnings.warn(colorize('%s: %s'%('WARN', msg % args), 'yellow'))\n"
     ]
    }
   ],
   "source": [
    "x, _, done, _ = env.step(1)\n",
    "\n",
    "if not done:\n",
    "    plt.imshow(x.permute(1,2,0))\n",
    "    plt.show()"
   ]
  },
  {
   "cell_type": "code",
   "execution_count": 32,
   "id": "b8ddb1df-94f9-4efc-8e58-ca0e156054cc",
   "metadata": {},
   "outputs": [
    {
     "name": "stdout",
     "output_type": "stream",
     "text": [
      "True\n"
     ]
    }
   ],
   "source": [
    "print(done)"
   ]
  },
  {
   "cell_type": "code",
   "execution_count": 33,
   "id": "ae3201c3-edc1-4461-b4ba-c5c4e2dfcab0",
   "metadata": {},
   "outputs": [],
   "source": [
    "env._env.close()"
   ]
  }
 ],
 "metadata": {
  "kernelspec": {
   "display_name": "Python 3",
   "language": "python",
   "name": "python3"
  },
  "language_info": {
   "codemirror_mode": {
    "name": "ipython",
    "version": 3
   },
   "file_extension": ".py",
   "mimetype": "text/x-python",
   "name": "python",
   "nbconvert_exporter": "python",
   "pygments_lexer": "ipython3",
   "version": "3.9.0"
  }
 },
 "nbformat": 4,
 "nbformat_minor": 5
}
